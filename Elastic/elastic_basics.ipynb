{
 "cells": [
  {
   "cell_type": "code",
   "execution_count": 12,
   "metadata": {},
   "outputs": [
    {
     "name": "stdout",
     "output_type": "stream",
     "text": [
      "All Modules Loaded ! \n"
     ]
    }
   ],
   "source": [
    "# Defining the imports\n",
    "try:\n",
    "    import os\n",
    "    import sys\n",
    "    \n",
    "    import elasticsearch\n",
    "    from elasticsearch import Elasticsearch \n",
    "    import pandas as pd\n",
    "    \n",
    "    print(\"All Modules Loaded ! \")\n",
    "except Exception as e:\n",
    "    print(\"Some Modules are Missing {}\".format(e))"
   ]
  },
  {
   "cell_type": "code",
   "execution_count": 13,
   "metadata": {},
   "outputs": [
    {
     "data": {
      "text/plain": [
       "True"
      ]
     },
     "execution_count": 13,
     "metadata": {},
     "output_type": "execute_result"
    }
   ],
   "source": [
    "# Creating connection\n",
    "es = Elasticsearch([{'host': 'localhost', 'port': 9200}])\n",
    "es.ping()"
   ]
  },
  {
   "cell_type": "code",
   "execution_count": 15,
   "metadata": {},
   "outputs": [
    {
     "data": {
      "text/plain": [
       "{'acknowledged': True, 'shards_acknowledged': True, 'index': 'test2'}"
      ]
     },
     "execution_count": 15,
     "metadata": {},
     "output_type": "execute_result"
    }
   ],
   "source": [
    "# Creating Index\n",
    "es.indices.create(index='test1', ignore=404)\n",
    "es.indices.create(index='test2', ignore=405)"
   ]
  },
  {
   "cell_type": "code",
   "execution_count": 16,
   "metadata": {},
   "outputs": [
    {
     "name": "stdout",
     "output_type": "stream",
     "text": [
      "series\n",
      "test-index\n",
      "person\n",
      ".ds-ilm-history-5-2021.03.16-000001\n",
      "test2\n",
      ".kibana_task_manager_1\n",
      ".kibana_1\n",
      ".apm-custom-link\n",
      "test-index1\n",
      ".apm-agent-configuration\n",
      "bank\n",
      "movie\n",
      "test1\n",
      "my_playlist\n",
      ".kibana-event-log-7.11.2-000001\n"
     ]
    },
    {
     "name": "stderr",
     "output_type": "stream",
     "text": [
      "C:\\Users\\yasha\\Anaconda3\\lib\\site-packages\\elasticsearch\\connection\\base.py:200: ElasticsearchWarning: this request accesses system indices: [.kibana_task_manager_1, .kibana_1, .apm-custom-link, .apm-agent-configuration], but in a future major version, direct access to system indices will be prevented by default\n",
      "  warnings.warn(message, category=ElasticsearchWarning)\n"
     ]
    }
   ],
   "source": [
    "# Getting all indexes\n",
    "res =  es.indices.get_alias(\"*\")\n",
    "for Name in res:\n",
    "    print(Name)"
   ]
  },
  {
   "cell_type": "code",
   "execution_count": 17,
   "metadata": {},
   "outputs": [
    {
     "name": "stdout",
     "output_type": "stream",
     "text": [
      ".kibana_1\n",
      "movie\n",
      "my_playlist\n",
      ".apm-custom-link\n",
      "test1\n",
      ".ds-ilm-history-5-2021.03.16-000001\n",
      "test-index\n",
      "series\n",
      "person\n",
      ".kibana-event-log-7.11.2-000001\n",
      "bank\n",
      "test2\n",
      ".kibana_task_manager_1\n",
      ".apm-agent-configuration\n",
      "test-index1\n"
     ]
    },
    {
     "name": "stderr",
     "output_type": "stream",
     "text": [
      "C:\\Users\\yasha\\Anaconda3\\lib\\site-packages\\elasticsearch\\connection\\base.py:200: ElasticsearchWarning: this request accesses system indices: [.kibana_1, .apm-custom-link, .kibana_task_manager_1, .apm-agent-configuration], but in a future major version, direct access to system indices will be prevented by default\n",
      "  warnings.warn(message, category=ElasticsearchWarning)\n"
     ]
    }
   ],
   "source": [
    "indices=es.indices.get_alias().keys()\n",
    "for Name in indices:\n",
    "    print(Name)"
   ]
  },
  {
   "cell_type": "code",
   "execution_count": 18,
   "metadata": {},
   "outputs": [
    {
     "data": {
      "text/plain": [
       "{'acknowledged': True}"
      ]
     },
     "execution_count": 18,
     "metadata": {},
     "output_type": "execute_result"
    }
   ],
   "source": [
    "# Deleting an index\n",
    "es.indices.delete(index = \"test-index\", ignore=400)"
   ]
  },
  {
   "cell_type": "code",
   "execution_count": 19,
   "metadata": {},
   "outputs": [
    {
     "name": "stdout",
     "output_type": "stream",
     "text": [
      ".apm-custom-link\n",
      "my_playlist\n",
      "test1\n",
      ".kibana_task_manager_1\n",
      ".kibana_1\n",
      "test2\n",
      "series\n",
      ".kibana-event-log-7.11.2-000001\n",
      ".apm-agent-configuration\n",
      "test-index1\n",
      "person\n",
      "movie\n",
      ".ds-ilm-history-5-2021.03.16-000001\n",
      "bank\n"
     ]
    }
   ],
   "source": [
    "# Getting all indexes\n",
    "res =  es.indices.get_alias(\"*\")\n",
    "for Name in res:\n",
    "    print(Name)"
   ]
  },
  {
   "cell_type": "markdown",
   "metadata": {},
   "source": [
    "### Uploading sample JSON Docs\n"
   ]
  },
  {
   "cell_type": "code",
   "execution_count": 20,
   "metadata": {},
   "outputs": [],
   "source": [
    "e1={\n",
    "    \"first_name\":\"Yashaswi\",\n",
    "    \"last_name\":\"Singh\",\n",
    "    \"age\": 26,\n",
    "    \"about\": \"Software Developer \",\n",
    "    \"interests\": ['Youtube','music'],\n",
    "}\n",
    "\n",
    "e2={\n",
    "    \"first_name\":\"Deepak\",\n",
    "    \"last_name\":\"Singh\",\n",
    "    \"age\": 58,\n",
    "    \"about\": \"Yashaswi's father \",\n",
    "    \"interests\": ['Stock','Relax'],\n",
    "}"
   ]
  },
  {
   "cell_type": "code",
   "execution_count": 21,
   "metadata": {},
   "outputs": [
    {
     "name": "stdout",
     "output_type": "stream",
     "text": [
      "RES1 : {'_index': 'person', '_type': 'people', '_id': 'sfQIPXgBYHZQKEMeRdcR', '_version': 1, 'result': 'created', '_shards': {'total': 2, 'successful': 1, 'failed': 0}, '_seq_no': 4, '_primary_term': 1}\n",
      "RES2 : {'_index': 'person', '_type': 'people', '_id': 'svQIPXgBYHZQKEMeRdcZ', '_version': 1, 'result': 'created', '_shards': {'total': 2, 'successful': 1, 'failed': 0}, '_seq_no': 5, '_primary_term': 1}\n"
     ]
    }
   ],
   "source": [
    "# Creating a database/index for storing our data\n",
    "es.indices.create(index='person', ignore=400)\n",
    "\n",
    "# Sending both the JSON documents\n",
    "res1 = es.index(index='person',doc_type='people', body=e1)\n",
    "res2 = es.index(index='person',doc_type='people', body=e2)\n",
    "\n",
    "print(\"RES1 : {}\".format(res1))\n",
    "print(\"RES2 : {}\".format(res2))"
   ]
  }
 ],
 "metadata": {
  "kernelspec": {
   "display_name": "Python 3",
   "language": "python",
   "name": "python3"
  },
  "language_info": {
   "codemirror_mode": {
    "name": "ipython",
    "version": 3
   },
   "file_extension": ".py",
   "mimetype": "text/x-python",
   "name": "python",
   "nbconvert_exporter": "python",
   "pygments_lexer": "ipython3",
   "version": "3.7.4"
  }
 },
 "nbformat": 4,
 "nbformat_minor": 2
}
